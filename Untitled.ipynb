{
 "cells": [
  {
   "cell_type": "code",
   "execution_count": 6,
   "id": "3599647c",
   "metadata": {},
   "outputs": [
    {
     "ename": "ModuleNotFoundError",
     "evalue": "No module named 'metavision_core'",
     "output_type": "error",
     "traceback": [
      "\u001b[0;31m---------------------------------------------------------------------------\u001b[0m",
      "\u001b[0;31mModuleNotFoundError\u001b[0m                       Traceback (most recent call last)",
      "\u001b[0;32m/tmp/ipykernel_98/3469617401.py\u001b[0m in \u001b[0;36m<module>\u001b[0;34m\u001b[0m\n\u001b[0;32m----> 1\u001b[0;31m \u001b[0;32mfrom\u001b[0m \u001b[0mmetavision_core\u001b[0m\u001b[0;34m.\u001b[0m\u001b[0mevent_io\u001b[0m \u001b[0;32mimport\u001b[0m \u001b[0mEventsIterator\u001b[0m\u001b[0;34m\u001b[0m\u001b[0;34m\u001b[0m\u001b[0m\n\u001b[0m",
      "\u001b[0;31mModuleNotFoundError\u001b[0m: No module named 'metavision_core'"
     ]
    }
   ],
   "source": [
    "from metavision_core.event_io import EventsIterator"
   ]
  },
  {
   "cell_type": "code",
   "execution_count": 7,
   "id": "0c70237d",
   "metadata": {},
   "outputs": [],
   "source": [
    "def parse_args():\n",
    "    import argparse\n",
    "    \"\"\"Parse command line arguments.\"\"\"\n",
    "    parser = argparse.ArgumentParser(description='Metavision SDK Get Started sample.',\n",
    "                                     formatter_class=argparse.ArgumentDefaultsHelpFormatter)\n",
    "    parser.add_argument(\n",
    "        '-i', '--input-raw-file', dest='input_path', default=\"\",\n",
    "        help=\"Path to input RAW file. If not specified, the live stream of the first available camera is used. \"\n",
    "        \"If it's a camera serial number, it will try to open that camera instead.\")\n",
    "    args = parser.parse_args()\n",
    "    return args"
   ]
  },
  {
   "cell_type": "code",
   "execution_count": 8,
   "id": "885742ff",
   "metadata": {},
   "outputs": [
    {
     "name": "stderr",
     "output_type": "stream",
     "text": [
      "usage: ipykernel_launcher.py [-h] [-i INPUT_PATH]\n",
      "ipykernel_launcher.py: error: unrecognized arguments: -f /home/jatinc/.local/share/jupyter/runtime/kernel-d1fc8a26-9cba-4a67-a644-c3e5d5289d20.json\n"
     ]
    },
    {
     "ename": "SystemExit",
     "evalue": "2",
     "output_type": "error",
     "traceback": [
      "An exception has occurred, use %tb to see the full traceback.\n",
      "\u001b[0;31mSystemExit\u001b[0m\u001b[0;31m:\u001b[0m 2\n"
     ]
    }
   ],
   "source": [
    "args = parse_args()\n",
    "\n",
    "# Events iterator on Camera or RAW file\n",
    "mv_iterator = EventsIterator(input_path=args.input_path, delta_t=1000)\n",
    "\n",
    "data = {\n",
    "    'x': [],\n",
    "    'y': [],\n",
    "    'p': [],\n",
    "    't': [] \n",
    "}\n",
    "\n",
    "for evs in mv_iterator:\n",
    "    data['x'].append(evs['x'])\n",
    "    data['y'].append(evs['y'])\n",
    "    data['p'].append(evs['p'])\n",
    "    data['t'].append(evs['t'])"
   ]
  },
  {
   "cell_type": "code",
   "execution_count": 9,
   "id": "d3f1acd1",
   "metadata": {},
   "outputs": [
    {
     "ename": "NameError",
     "evalue": "name 'data' is not defined",
     "output_type": "error",
     "traceback": [
      "\u001b[0;31m---------------------------------------------------------------------------\u001b[0m",
      "\u001b[0;31mNameError\u001b[0m                                 Traceback (most recent call last)",
      "\u001b[0;32m/tmp/ipykernel_98/253458081.py\u001b[0m in \u001b[0;36m<module>\u001b[0;34m\u001b[0m\n\u001b[0;32m----> 1\u001b[0;31m \u001b[0mprint\u001b[0m\u001b[0;34m(\u001b[0m\u001b[0mdata\u001b[0m\u001b[0;34m[\u001b[0m\u001b[0;34m'x'\u001b[0m\u001b[0;34m]\u001b[0m\u001b[0;34m)\u001b[0m\u001b[0;34m\u001b[0m\u001b[0;34m\u001b[0m\u001b[0m\n\u001b[0m",
      "\u001b[0;31mNameError\u001b[0m: name 'data' is not defined"
     ]
    }
   ],
   "source": [
    "print(data['x'])"
   ]
  }
 ],
 "metadata": {
  "kernelspec": {
   "display_name": "snnenv",
   "language": "python",
   "name": "snnenv"
  },
  "language_info": {
   "codemirror_mode": {
    "name": "ipython",
    "version": 3
   },
   "file_extension": ".py",
   "mimetype": "text/x-python",
   "name": "python",
   "nbconvert_exporter": "python",
   "pygments_lexer": "ipython3",
   "version": "3.9.7"
  }
 },
 "nbformat": 4,
 "nbformat_minor": 5
}
